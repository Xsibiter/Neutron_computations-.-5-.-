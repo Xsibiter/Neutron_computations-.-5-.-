{
 "cells": [
  {
   "cell_type": "code",
   "execution_count": null,
   "id": "346b069c-bbed-4ed2-b3e6-e985913f03af",
   "metadata": {
    "colab": {
     "base_uri": "https://localhost:8080/",
     "height": 408
    },
    "id": "346b069c-bbed-4ed2-b3e6-e985913f03af",
    "outputId": "b0ba4468-5cdc-4dda-87aa-37b5b225fa1e"
   },
   "outputs": [],
   "source": [
    "import numpy as np\n",
    "\n",
    "def arccot_function(x):\n",
    "\n",
    "    return np.arctan(1/x) - (np.pi / 2)\n",
    "\n",
    "def taylor_arccot_series(x, max_terms=100, tolerance=1e-6):\n",
    "    \n",
    "    if abs(x) >= 1:\n",
    "        raise ValueError(\"x должен быть меньше 1 по модулю.\")\n",
    "\n",
    "    series_sum = 0.0\n",
    "    max_term = 0.0  # для хранения наибольшего члена ряд\n",
    "    k = 0\n",
    "\n",
    "    while k < max_terms:\n",
    "        term = ((-1) ** k) * (x ** (2 * k + 1)) / (2 * k + 1)\n",
    "        series_sum += term\n",
    "        max_term = max(max_term, abs(term)) \n",
    "        if abs(term) < tolerance:\n",
    "            break\n",
    "        k += 1\n",
    "\n",
    "    \n",
    "    result = -series_sum\n",
    "\n",
    "    return result, max_term, k\n",
    "\n",
    "def relative_error(approximation, actual_value):\n",
    "    \n",
    "    if actual_value == 0:\n",
    "        return 0\n",
    "    return abs((approximation - actual_value)*100 / actual_value)\n",
    "\n",
    "def calculate_series_for_range(x_min, x_max, step, max_terms, tolerance):\n",
    "    \n",
    "    x_values = np.arange(x_min, x_max + step, step)\n",
    "    results = []\n",
    "\n",
    "    for idx, x in enumerate(x_values):\n",
    "        sum_series, max_term, terms_used = taylor_arccot_series(x, max_terms, tolerance)\n",
    "        actual_value = arccot_function(x)\n",
    "        rel_accuracy = relative_error(sum_series, actual_value)\n",
    "        results.append((idx + 1, x, sum_series, actual_value, max_term, rel_accuracy))\n",
    "\n",
    "    return results\n",
    "\n",
    "def formatted_output(results):\n",
    "   \n",
    "    print(f\"{'Точка':>6} | {'x':>10} | {'Сумма ряда':>20} | {'Значение функции':>20} | {'Наибольший член ряда':>20} | {'Отн. точность':>15}\")\n",
    "    print(\"-\" * 115)\n",
    "    for idx, x, sum_series, actual_value, max_term, rel_accuracy in results:\n",
    "        print(f\"{idx:>6} | {x:>10.5f} | {sum_series:>20.10e} | {actual_value:>20.10e} | {max_term:>20.10e} | {rel_accuracy:>15.10e}\")\n",
    "\n",
    "# Ввод данных от пользователя\n",
    "x_min = float(input(\"Введите начальное значение диапазона x (|x| < 1): \"))\n",
    "x_max = float(input(\"Введите конечное значение диапазона x (|x| < 1): \"))\n",
    "step = float(input(\"Введите шаг по x: \"))\n",
    "max_terms = int(input(\"Введите максимальное количество членов ряда: \"))\n",
    "tolerance = float(input(\"Введите желаемую точность (например, 1e-6): \"))\n",
    "\n",
    "\n",
    "if abs(x_min) >= 1 or abs(x_max) >= 1:\n",
    "    raise ValueError(\"Начальное и конечное значения x должны быть меньше 1 по модулю.\")\n",
    "\n",
    "# Вычисление и вывод\n",
    "results = calculate_series_for_range(x_min, x_max, step, max_terms, tolerance)\n",
    "formatted_output(results)\n"
   ]
  },
  {
   "cell_type": "code",
   "execution_count": null,
   "id": "f6d17a14-4eec-4cc0-85d5-049b3130f851",
   "metadata": {},
   "outputs": [],
   "source": []
  }
 ],
 "metadata": {
  "colab": {
   "provenance": []
  },
  "kernelspec": {
   "display_name": "Python 3 (ipykernel)",
   "language": "python",
   "name": "python3"
  },
  "language_info": {
   "codemirror_mode": {
    "name": "ipython",
    "version": 3
   },
   "file_extension": ".py",
   "mimetype": "text/x-python",
   "name": "python",
   "nbconvert_exporter": "python",
   "pygments_lexer": "ipython3",
   "version": "3.13.0"
  }
 },
 "nbformat": 4,
 "nbformat_minor": 5
}
